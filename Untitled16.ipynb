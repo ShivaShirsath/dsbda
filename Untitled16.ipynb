{
 "cells": [
  {
   "cell_type": "code",
   "execution_count": 1,
   "id": "626be5dc",
   "metadata": {},
   "outputs": [],
   "source": [
    "from nltk.corpus import stopwords\n",
    "from nltk.tokenize import word_tokenize"
   ]
  },
  {
   "cell_type": "code",
   "execution_count": 2,
   "id": "cd484c57",
   "metadata": {},
   "outputs": [
    {
     "name": "stdout",
     "output_type": "stream",
     "text": [
      "{\"she's\", 'an', 'under', 'as', 'shouldn', 'here', 'weren', 'me', 'won', \"didn't\", 'd', 'll', 'aren', 'nor', 't', 'in', 'wasn', 'be', 'did', 'very', 'whom', 'while', 'themselves', 'but', 'who', \"weren't\", 'for', 'or', 'didn', \"needn't\", 'down', 'shan', 'isn', 'about', 'too', \"don't\", 're', 'off', 'against', \"hadn't\", 'same', 'such', 'don', 'that', 'those', 'now', 'ain', 'we', 'where', 'than', 'can', 'further', 'other', \"it's\", 'm', \"you'd\", 'this', 'they', 'some', 'each', \"aren't\", 'yours', 'them', 'o', 'do', \"you've\", 'out', 'her', \"wasn't\", 'i', 'doing', 'couldn', 'by', \"mightn't\", 'their', 'how', 'him', 'are', 'my', 'when', \"hasn't\", 'being', 'before', 'why', 'herself', 'hadn', 'she', \"you'll\", 'any', 'mustn', 'he', \"mustn't\", 'at', 'myself', 'so', 'needn', 'through', 'had', 'then', 'no', 'of', 'once', 'there', 'just', 'after', 's', 'on', 'what', 'with', 'during', \"should've\", 'these', 'and', 'few', 'to', 'into', 'was', 'between', 'if', 'have', 'am', 'you', 'over', 'yourself', 'only', 'his', 'been', \"doesn't\", 'himself', 'itself', 'is', 'not', 'having', 'own', 'hasn', 'mightn', 'has', 'from', 'above', \"shan't\", 'more', \"haven't\", 'doesn', 'which', 'theirs', 'it', 'below', 'y', \"you're\", 'our', 'its', 'the', 'haven', 'wouldn', 'your', \"won't\", 'were', 'until', \"couldn't\", 'yourselves', 'a', 'up', 've', 'all', 'hers', 'ourselves', 'both', 'does', 'again', 'will', \"isn't\", 'should', 'most', 'ours', 'because', \"wouldn't\", \"shouldn't\", \"that'll\", 'ma'}\n"
     ]
    }
   ],
   "source": [
    "stop_words = set(stopwords.words('english'))\n",
    "print(stop_words)"
   ]
  },
  {
   "cell_type": "code",
   "execution_count": 5,
   "id": "d2178367",
   "metadata": {},
   "outputs": [
    {
     "ename": "NameError",
     "evalue": "name 'nltk' is not defined",
     "output_type": "error",
     "traceback": [
      "\u001b[1;31m---------------------------------------------------------------------------\u001b[0m",
      "\u001b[1;31mNameError\u001b[0m                                 Traceback (most recent call last)",
      "Input \u001b[1;32mIn [5]\u001b[0m, in \u001b[0;36m<cell line: 2>\u001b[1;34m()\u001b[0m\n\u001b[0;32m      1\u001b[0m text \u001b[38;5;241m=\u001b[39m \u001b[38;5;124m\"\u001b[39m\u001b[38;5;124mHow to remove stop words with NLTK library in python?\u001b[39m\u001b[38;5;124m\"\u001b[39m\n\u001b[1;32m----> 2\u001b[0m tokens \u001b[38;5;241m=\u001b[39m \u001b[43mnltk\u001b[49m\u001b[38;5;241m.\u001b[39mword_tokenize(text\u001b[38;5;241m.\u001b[39mlower())\n\u001b[0;32m      3\u001b[0m filtered_text \u001b[38;5;241m=\u001b[39m []\n\u001b[0;32m      5\u001b[0m \u001b[38;5;28;01mfor\u001b[39;00m w \u001b[38;5;129;01min\u001b[39;00m tokens:\n",
      "\u001b[1;31mNameError\u001b[0m: name 'nltk' is not defined"
     ]
    }
   ],
   "source": [
    "text = \"How to remove stop words with NLTK library in python?\"\n",
    "tokens = nltk.word_tokenize(text.lower())\n",
    "filtered_text = []\n",
    "\n",
    "for w in tokens:\n",
    "    if w not in stop_words:\n",
    "        filtered_text.append(w)\n",
    "print(\"tokenized word:\",tokens)\n",
    "print(\"filterd word:\",filtered_text)"
   ]
  },
  {
   "cell_type": "code",
   "execution_count": null,
   "id": "4578ab8b",
   "metadata": {},
   "outputs": [],
   "source": []
  }
 ],
 "metadata": {
  "kernelspec": {
   "display_name": "Python 3 (ipykernel)",
   "language": "python",
   "name": "python3"
  },
  "language_info": {
   "codemirror_mode": {
    "name": "ipython",
    "version": 3
   },
   "file_extension": ".py",
   "mimetype": "text/x-python",
   "name": "python",
   "nbconvert_exporter": "python",
   "pygments_lexer": "ipython3",
   "version": "3.10.0"
  }
 },
 "nbformat": 4,
 "nbformat_minor": 5
}
