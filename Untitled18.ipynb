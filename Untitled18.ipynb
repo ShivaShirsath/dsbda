{
 "cells": [
  {
   "cell_type": "code",
   "execution_count": 1,
   "id": "3221f27c",
   "metadata": {},
   "outputs": [],
   "source": [
    "from nltk.corpus import stopwords\n",
    "from nltk.tokenize import word_tokenize"
   ]
  },
  {
   "cell_type": "code",
   "execution_count": 2,
   "id": "7bd13fbd",
   "metadata": {},
   "outputs": [
    {
     "name": "stdout",
     "output_type": "stream",
     "text": [
      "{'is', 'those', 'our', \"won't\", 'hasn', 'y', 'o', 'because', 'here', \"hasn't\", 'wasn', \"you'll\", 'below', 'd', 'so', 'of', 'we', 'while', 'ain', 'does', 'their', 'having', 'a', 't', 'him', 'an', 'he', 'no', 'are', 'each', 'yourselves', \"should've\", 'own', \"didn't\", 'mightn', 'themselves', 'there', 'down', 'do', 'doesn', 'into', 'it', 'off', 'some', 'just', 'very', 'who', 'hers', 'doing', 'will', \"couldn't\", 'himself', 'before', 'under', 'did', 'such', 'than', 'the', 'above', 'that', 'your', 'have', 'about', 'both', 'but', 'most', 'were', 'haven', 'his', \"needn't\", 'out', 'won', 'my', 'don', 'ourselves', 'until', 'you', 'was', 'over', 'yours', 'why', 'm', \"aren't\", 'mustn', 'only', 'again', 'couldn', \"weren't\", 'didn', 'whom', 'few', 'through', 'now', 'what', 'be', 's', 'wouldn', 'between', 'or', 'being', 'during', 'its', 'in', 'had', 'yourself', 'where', \"shan't\", \"shouldn't\", 'am', \"don't\", 'at', 'same', 'which', \"mightn't\", 'to', 'them', 'hadn', \"she's\", 'shouldn', 've', \"mustn't\", 'itself', 'against', 'shan', 'when', 'i', 'on', 'weren', 'after', 'herself', 'more', \"you're\", 'nor', 'me', \"wasn't\", 'as', \"that'll\", \"doesn't\", 'once', \"isn't\", 'up', 'how', 'too', \"it's\", 'for', 'not', \"hadn't\", 'then', 'she', 'if', 'theirs', 'can', 'should', 'and', 'by', 'with', 'they', \"you'd\", \"you've\", 'this', 'all', 'ma', 'isn', 'further', \"haven't\", \"wouldn't\", 'ours', 'needn', 're', 'these', 'aren', 'll', 'has', 'been', 'from', 'any', 'myself', 'her', 'other'}\n"
     ]
    }
   ],
   "source": [
    "stop_words = set(stopwords.words('english'))\n",
    "print(stop_words)"
   ]
  }
 ],
 "metadata": {
  "kernelspec": {
   "display_name": "Python 3 (ipykernel)",
   "language": "python",
   "name": "python3"
  },
  "language_info": {
   "codemirror_mode": {
    "name": "ipython",
    "version": 3
   },
   "file_extension": ".py",
   "mimetype": "text/x-python",
   "name": "python",
   "nbconvert_exporter": "python",
   "pygments_lexer": "ipython3",
   "version": "3.10.0"
  }
 },
 "nbformat": 4,
 "nbformat_minor": 5
}
