{
 "cells": [
  {
   "cell_type": "code",
   "execution_count": 1,
   "id": "02bd4342",
   "metadata": {},
   "outputs": [],
   "source": [
    "from nltk.tokenize import sent_tokenize,word_tokenize"
   ]
  },
  {
   "cell_type": "code",
   "execution_count": 2,
   "id": "4caeda7e",
   "metadata": {},
   "outputs": [],
   "source": [
    "text = \"\"\"Hello,Here we are studying about Tokenization.\n",
    "Tokenization is first step in text analysis.\n",
    "In tokenization process text paragraph breaking down into\n",
    "smaller chunks such as words or sentences.\"\"\""
   ]
  },
  {
   "cell_type": "code",
   "execution_count": 3,
   "id": "f4ad70f7",
   "metadata": {},
   "outputs": [
    {
     "name": "stdout",
     "output_type": "stream",
     "text": [
      "['Hello,Here we are studying about Tokenization.', 'Tokenization is first step in text analysis.', 'In tokenization process text paragraph breaking down into\\nsmaller chunks such as words or sentences.']\n"
     ]
    }
   ],
   "source": [
    "# Sentence Tokenization\n",
    "\n",
    "tokenized_text_in_sentence = sent_tokenize(text)\n",
    "print(tokenized_text_in_sentence)"
   ]
  },
  {
   "cell_type": "code",
   "execution_count": 4,
   "id": "336263ca",
   "metadata": {},
   "outputs": [
    {
     "name": "stdout",
     "output_type": "stream",
     "text": [
      "['Hello', ',', 'Here', 'we', 'are', 'studying', 'about', 'Tokenization', '.', 'Tokenization', 'is', 'first', 'step', 'in', 'text', 'analysis', '.', 'In', 'tokenization', 'process', 'text', 'paragraph', 'breaking', 'down', 'into', 'smaller', 'chunks', 'such', 'as', 'words', 'or', 'sentences', '.']\n"
     ]
    }
   ],
   "source": [
    "# Word Tokenization\n",
    "\n",
    "tokenized_text_in_word = word_tokenize(text)\n",
    "print(tokenized_text_in_word)"
   ]
  }
 ],
 "metadata": {
  "kernelspec": {
   "display_name": "Python 3 (ipykernel)",
   "language": "python",
   "name": "python3"
  },
  "language_info": {
   "codemirror_mode": {
    "name": "ipython",
    "version": 3
   },
   "file_extension": ".py",
   "mimetype": "text/x-python",
   "name": "python",
   "nbconvert_exporter": "python",
   "pygments_lexer": "ipython3",
   "version": "3.10.0"
  }
 },
 "nbformat": 4,
 "nbformat_minor": 5
}
