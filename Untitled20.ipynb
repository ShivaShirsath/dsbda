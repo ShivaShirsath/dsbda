{
 "cells": [
  {
   "cell_type": "code",
   "execution_count": 1,
   "id": "8c69ede8",
   "metadata": {},
   "outputs": [],
   "source": [
    "from nltk.corpus import stopwords\n",
    "from nltk.tokenize import word_tokenize\n",
    "import re"
   ]
  },
  {
   "cell_type": "code",
   "execution_count": 2,
   "id": "f2969b5f",
   "metadata": {},
   "outputs": [
    {
     "name": "stdout",
     "output_type": "stream",
     "text": [
      "{'who', 'then', \"that'll\", 'which', 'been', 'only', 'so', 'have', 'won', 'should', 'shan', 'of', 'yourself', 'ain', 'weren', 'theirs', 'through', 'yours', \"needn't\", \"she's\", 'during', \"hadn't\", \"aren't\", 'for', 'to', 'am', 'm', 'doesn', 'at', 'their', 'mightn', 'not', 'further', 'aren', \"should've\", 's', \"wouldn't\", 'very', 'the', 'hasn', 'each', \"doesn't\", 'can', 'those', 'all', 't', 'same', 'ourselves', \"mustn't\", 'doing', 'down', 'below', 'they', 'no', 're', 'own', 'hadn', 'why', 'this', 'where', \"isn't\", 'will', 'now', 'most', 'if', 'had', 'being', 'how', 'between', 'until', 'my', \"shan't\", 'out', 'll', \"shouldn't\", \"won't\", \"weren't\", 'o', \"didn't\", \"you've\", 'with', 'him', 'y', 'itself', 'd', \"haven't\", 'off', \"hasn't\", 'while', 'a', 'you', 'them', 'didn', 'i', 'myself', 'some', 'ma', 'here', \"mightn't\", 'her', 'too', \"wasn't\", 'it', \"don't\", 'these', 'our', \"you'd\", 'in', 'about', 'he', 'because', 'up', 'both', 'herself', 'does', 'what', 'having', 'is', \"you'll\", 'be', 'than', 'were', 'ours', 'such', 'and', 'did', 'don', 'shouldn', 'himself', 'needn', 'its', 'other', 'an', 'me', 'has', 'once', 'after', 'over', 'there', 'wasn', 'more', 'hers', 'few', 'just', 'mustn', 'couldn', 'under', 'are', 'nor', 'whom', 'again', \"couldn't\", 'haven', 'from', 'she', 'wouldn', \"you're\", 'that', 'was', 'on', 'your', 'themselves', 'into', 'we', 've', 'do', 'but', 'by', 'against', 'before', 'above', 'isn', \"it's\", 'any', 'or', 'yourselves', 'his', 'as', 'when'}\n"
     ]
    }
   ],
   "source": [
    "stop_words = set(stopwords.words('english'))\n",
    "print(stop_words)"
   ]
  },
  {
   "cell_type": "code",
   "execution_count": 3,
   "id": "097059c4",
   "metadata": {},
   "outputs": [
    {
     "name": "stdout",
     "output_type": "stream",
     "text": [
      "tokenized word: ['how', 'to', 'remove', 'stop', 'words', 'with', 'nltk', 'library', 'in', 'python']\n",
      "filterd word: ['remove', 'stop', 'words', 'nltk', 'library', 'python']\n"
     ]
    }
   ],
   "source": [
    "text = \"How to remove stop words with NLTK library in python?\"\n",
    "text = re.sub('[^a-zA-Z]',' ',text)\n",
    "tokens = word_tokenize(text.lower())\n",
    "filtered_text = []\n",
    "\n",
    "for w in tokens:\n",
    "    if w not in stop_words:\n",
    "        filtered_text.append(w)\n",
    "print(\"tokenized word:\",tokens)\n",
    "print(\"filterd word:\",filtered_text)"
   ]
  }
 ],
 "metadata": {
  "kernelspec": {
   "display_name": "Python 3 (ipykernel)",
   "language": "python",
   "name": "python3"
  },
  "language_info": {
   "codemirror_mode": {
    "name": "ipython",
    "version": 3
   },
   "file_extension": ".py",
   "mimetype": "text/x-python",
   "name": "python",
   "nbconvert_exporter": "python",
   "pygments_lexer": "ipython3",
   "version": "3.10.0"
  }
 },
 "nbformat": 4,
 "nbformat_minor": 5
}
