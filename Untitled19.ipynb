{
 "cells": [
  {
   "cell_type": "code",
   "execution_count": 2,
   "id": "b4597003",
   "metadata": {},
   "outputs": [
    {
     "name": "stdout",
     "output_type": "stream",
     "text": [
      "{'each', 'against', \"wasn't\", 'he', 'which', 'or', 'until', 'down', 'while', 'through', 'own', \"should've\", \"needn't\", 'into', 'between', 'whom', 'was', 'we', 'have', 'off', \"you're\", 'mustn', 'she', 'up', \"isn't\", \"doesn't\", 'mightn', 'any', 'is', 'after', \"didn't\", 'a', \"aren't\", 'his', 'more', \"mustn't\", 'been', 'himself', 'what', 'ma', 'it', 'all', 'theirs', 'who', 'did', 'once', 'such', 'when', 's', 'has', 'being', 'herself', 'hadn', \"won't\", \"couldn't\", 'and', 'no', 'your', 'i', 'the', 'not', 'be', 'those', 'yours', \"don't\", 'having', 'as', 'again', 'most', 'there', 'nor', 'itself', 'should', 'themselves', 'other', 'wasn', 'an', 'under', 'if', 'do', 'why', 'were', 'too', \"it's\", \"you've\", 'than', \"wouldn't\", 'haven', 'by', 'over', 'wouldn', 'isn', 'needn', 'below', 'will', 'out', 'at', 'where', 'couldn', 'for', 'with', \"you'd\", 'does', 'y', 're', 'll', 'they', \"you'll\", 'yourselves', 'same', 'her', 'just', 'how', 'our', 'm', 'my', 'o', 'doing', 'won', 'only', 'hers', 'these', 'didn', 'shan', 'so', 'ours', 'him', 'both', 'can', 'ourselves', \"hadn't\", 'of', 'about', 'but', 'here', 've', 'you', 'that', \"shouldn't\", 'weren', 'myself', 'because', 'few', \"shan't\", 'this', 'hasn', 'very', 'me', 'them', \"mightn't\", 'before', 'shouldn', 'their', 'then', \"that'll\", 'to', 'are', 'above', 'doesn', 'on', \"weren't\", 'from', \"hasn't\", 'its', 'some', 'in', \"she's\", 'further', 'aren', 'now', 'during', 'don', 't', 'am', 'had', \"haven't\", 'd', 'yourself', 'ain'}\n"
     ]
    }
   ],
   "source": [
    "stop_words = set(stopwords.words('english'))\n",
    "print(stop_words)"
   ]
  },
  {
   "cell_type": "code",
   "execution_count": 3,
   "id": "c5e1938c",
   "metadata": {},
   "outputs": [
    {
     "name": "stdout",
     "output_type": "stream",
     "text": [
      "tokenized word: ['how', 'to', 'remove', 'stop', 'words', 'with', 'nltk', 'library', 'in', 'python', '?']\n",
      "filterd word: ['remove', 'stop', 'words', 'nltk', 'library', 'python', '?']\n"
     ]
    }
   ],
   "source": [
    "text = \"How to remove stop words with NLTK library in python?\"\n",
    "tokens = word_tokenize(text.lower())\n",
    "filtered_text = []\n",
    "\n",
    "for w in tokens:\n",
    "    if w not in stop_words:\n",
    "        filtered_text.append(w)\n",
    "print(\"tokenized word:\",tokens)\n",
    "print(\"filterd word:\",filtered_text)"
   ]
  }
 ],
 "metadata": {
  "kernelspec": {
   "display_name": "Python 3 (ipykernel)",
   "language": "python",
   "name": "python3"
  },
  "language_info": {
   "codemirror_mode": {
    "name": "ipython",
    "version": 3
   },
   "file_extension": ".py",
   "mimetype": "text/x-python",
   "name": "python",
   "nbconvert_exporter": "python",
   "pygments_lexer": "ipython3",
   "version": "3.10.0"
  }
 },
 "nbformat": 4,
 "nbformat_minor": 5
}
