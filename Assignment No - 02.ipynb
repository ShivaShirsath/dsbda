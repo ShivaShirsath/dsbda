{
 "cells": [
  {
   "cell_type": "code",
   "execution_count": 7,
   "id": "871d09f2",
   "metadata": {},
   "outputs": [],
   "source": [
    "import pandas as pd\n",
    "from sklearn."
   ]
  },
  {
   "cell_type": "code",
   "execution_count": 8,
   "id": "a291f316",
   "metadata": {},
   "outputs": [],
   "source": [
    "df = pd.read_csv(\"C:\\DSBDA\\student data\\students_adaptability_level_online_education.csv\")"
   ]
  },
  {
   "cell_type": "code",
   "execution_count": 9,
   "id": "2465b128",
   "metadata": {},
   "outputs": [
    {
     "data": {
      "text/plain": [
       "Gender                 object\n",
       "Age                    object\n",
       "Education Level        object\n",
       "Institution Type       object\n",
       "IT Student             object\n",
       "Location               object\n",
       "Load-shedding          object\n",
       "Financial Condition    object\n",
       "Internet Type          object\n",
       "Network Type           object\n",
       "Class Duration         object\n",
       "Self Lms               object\n",
       "Device                 object\n",
       "Adaptivity Level       object\n",
       "dtype: object"
      ]
     },
     "execution_count": 9,
     "metadata": {},
     "output_type": "execute_result"
    }
   ],
   "source": [
    "df.dtypes"
   ]
  },
  {
   "cell_type": "code",
   "execution_count": null,
   "id": "e8a7b3c8",
   "metadata": {},
   "outputs": [],
   "source": [
    "dataset"
   ]
  },
  {
   "cell_type": "code",
   "execution_count": null,
   "id": "4408c72d",
   "metadata": {},
   "outputs": [],
   "source": []
  }
 ],
 "metadata": {
  "kernelspec": {
   "display_name": "Python 3 (ipykernel)",
   "language": "python",
   "name": "python3"
  },
  "language_info": {
   "codemirror_mode": {
    "name": "ipython",
    "version": 3
   },
   "file_extension": ".py",
   "mimetype": "text/x-python",
   "name": "python",
   "nbconvert_exporter": "python",
   "pygments_lexer": "ipython3",
   "version": "3.10.0"
  }
 },
 "nbformat": 4,
 "nbformat_minor": 5
}
