{
 "cells": [
  {
   "cell_type": "code",
   "execution_count": 39,
   "id": "881f263c",
   "metadata": {},
   "outputs": [],
   "source": [
    "x= 'my name is Pavan, i am Pavan, i want to learn coding'\n",
    "a = 'how are you, how was your day . today is which day'\n",
    "y = x.split()\n",
    "b = a.split()"
   ]
  },
  {
   "cell_type": "code",
   "execution_count": 40,
   "id": "587c79f5",
   "metadata": {},
   "outputs": [
    {
     "name": "stdout",
     "output_type": "stream",
     "text": [
      "['my', 'name', 'is', 'Pavan,', 'i', 'am', 'Pavan,', 'i', 'want', 'to', 'learn', 'coding']\n"
     ]
    }
   ],
   "source": [
    "print(y)"
   ]
  },
  {
   "cell_type": "code",
   "execution_count": 41,
   "id": "dd84904b",
   "metadata": {},
   "outputs": [
    {
     "name": "stdout",
     "output_type": "stream",
     "text": [
      "{'is', 'Pavan,', 'how', 'your', 'am', 'to', 'i', 'learn', 'day', 'are', 'which', 'want', 'you,', 'today', 'coding', 'was', 'my', '.', 'name'}\n"
     ]
    }
   ],
   "source": [
    "z = set(y).union(set(b))\n",
    "print(z)"
   ]
  },
  {
   "cell_type": "code",
   "execution_count": null,
   "id": "f99d3c7f",
   "metadata": {},
   "outputs": [],
   "source": []
  }
 ],
 "metadata": {
  "kernelspec": {
   "display_name": "Python 3 (ipykernel)",
   "language": "python",
   "name": "python3"
  },
  "language_info": {
   "codemirror_mode": {
    "name": "ipython",
    "version": 3
   },
   "file_extension": ".py",
   "mimetype": "text/x-python",
   "name": "python",
   "nbconvert_exporter": "python",
   "pygments_lexer": "ipython3",
   "version": "3.10.0"
  }
 },
 "nbformat": 4,
 "nbformat_minor": 5
}
