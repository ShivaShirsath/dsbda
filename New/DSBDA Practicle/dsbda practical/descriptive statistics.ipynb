{
 "cells": [
  {
   "cell_type": "code",
   "execution_count": 1,
   "id": "d3ea105b",
   "metadata": {},
   "outputs": [],
   "source": [
    "import pandas as pd"
   ]
  },
  {
   "cell_type": "code",
   "execution_count": 20,
   "id": "ad4b95ca",
   "metadata": {},
   "outputs": [],
   "source": [
    "import numpy as np"
   ]
  },
  {
   "cell_type": "code",
   "execution_count": 22,
   "id": "869191a1",
   "metadata": {},
   "outputs": [],
   "source": [
    "import statistics as st"
   ]
  },
  {
   "cell_type": "code",
   "execution_count": 23,
   "id": "24a1077a",
   "metadata": {},
   "outputs": [],
   "source": [
    "dataset = pd.read_csv(r'C:\\Users\\Dell\\dsbda\\housing.csv')"
   ]
  },
  {
   "cell_type": "code",
   "execution_count": 25,
   "id": "7e960369",
   "metadata": {},
   "outputs": [
    {
     "data": {
      "text/plain": [
       "Avg. Area Income                6.858311e+04\n",
       "Avg. Area House Age             5.977222e+00\n",
       "Avg. Area Number of Rooms       6.987792e+00\n",
       "Avg. Area Number of Bedrooms    3.981330e+00\n",
       "Area Population                 3.616352e+04\n",
       "Price                           1.232073e+06\n",
       "dtype: float64"
      ]
     },
     "execution_count": 25,
     "metadata": {},
     "output_type": "execute_result"
    }
   ],
   "source": [
    "dataset.mean()"
   ]
  },
  {
   "cell_type": "code",
   "execution_count": 26,
   "id": "9dc5517b",
   "metadata": {},
   "outputs": [
    {
     "data": {
      "text/html": [
       "<div>\n",
       "<style scoped>\n",
       "    .dataframe tbody tr th:only-of-type {\n",
       "        vertical-align: middle;\n",
       "    }\n",
       "\n",
       "    .dataframe tbody tr th {\n",
       "        vertical-align: top;\n",
       "    }\n",
       "\n",
       "    .dataframe thead th {\n",
       "        text-align: right;\n",
       "    }\n",
       "</style>\n",
       "<table border=\"1\" class=\"dataframe\">\n",
       "  <thead>\n",
       "    <tr style=\"text-align: right;\">\n",
       "      <th></th>\n",
       "      <th>Avg. Area Income</th>\n",
       "      <th>Avg. Area House Age</th>\n",
       "      <th>Avg. Area Number of Rooms</th>\n",
       "      <th>Avg. Area Number of Bedrooms</th>\n",
       "      <th>Area Population</th>\n",
       "      <th>Price</th>\n",
       "      <th>Address</th>\n",
       "    </tr>\n",
       "  </thead>\n",
       "  <tbody>\n",
       "    <tr>\n",
       "      <th>0</th>\n",
       "      <td>17796.63119</td>\n",
       "      <td>2.644304</td>\n",
       "      <td>3.236194</td>\n",
       "      <td>4.38</td>\n",
       "      <td>172.610686</td>\n",
       "      <td>1.593866e+04</td>\n",
       "      <td>000 Adkins Crescent\\nSouth Teresa, AS 49642-1348</td>\n",
       "    </tr>\n",
       "    <tr>\n",
       "      <th>1</th>\n",
       "      <td>35454.71466</td>\n",
       "      <td>2.683043</td>\n",
       "      <td>3.950225</td>\n",
       "      <td>NaN</td>\n",
       "      <td>3285.450538</td>\n",
       "      <td>3.114052e+04</td>\n",
       "      <td>000 Todd Pines\\nAshleyberg, KY 90207-1179</td>\n",
       "    </tr>\n",
       "    <tr>\n",
       "      <th>2</th>\n",
       "      <td>35608.98624</td>\n",
       "      <td>2.797215</td>\n",
       "      <td>3.950973</td>\n",
       "      <td>NaN</td>\n",
       "      <td>3883.448164</td>\n",
       "      <td>8.859177e+04</td>\n",
       "      <td>001 Steve Plaza\\nJessicastad, UT 25190</td>\n",
       "    </tr>\n",
       "    <tr>\n",
       "      <th>3</th>\n",
       "      <td>35797.32312</td>\n",
       "      <td>2.797619</td>\n",
       "      <td>3.969632</td>\n",
       "      <td>NaN</td>\n",
       "      <td>4114.489353</td>\n",
       "      <td>1.430274e+05</td>\n",
       "      <td>0010 Gregory Loaf\\nSouth Ericfort, VA 34651-0718</td>\n",
       "    </tr>\n",
       "    <tr>\n",
       "      <th>4</th>\n",
       "      <td>35963.33081</td>\n",
       "      <td>2.922736</td>\n",
       "      <td>4.027931</td>\n",
       "      <td>NaN</td>\n",
       "      <td>5727.485885</td>\n",
       "      <td>1.515271e+05</td>\n",
       "      <td>00149 Raymond Knolls\\nNew Jason, UT 75026</td>\n",
       "    </tr>\n",
       "    <tr>\n",
       "      <th>...</th>\n",
       "      <td>...</td>\n",
       "      <td>...</td>\n",
       "      <td>...</td>\n",
       "      <td>...</td>\n",
       "      <td>...</td>\n",
       "      <td>...</td>\n",
       "      <td>...</td>\n",
       "    </tr>\n",
       "    <tr>\n",
       "      <th>4995</th>\n",
       "      <td>101599.67060</td>\n",
       "      <td>8.973441</td>\n",
       "      <td>10.024375</td>\n",
       "      <td>NaN</td>\n",
       "      <td>68311.695820</td>\n",
       "      <td>2.318286e+06</td>\n",
       "      <td>Unit 9774 Box 4511\\nDPO AE 44963</td>\n",
       "    </tr>\n",
       "    <tr>\n",
       "      <th>4996</th>\n",
       "      <td>101928.85810</td>\n",
       "      <td>8.991399</td>\n",
       "      <td>10.144988</td>\n",
       "      <td>NaN</td>\n",
       "      <td>69553.988330</td>\n",
       "      <td>2.330290e+06</td>\n",
       "      <td>Unit 9778 Box 2114\\nDPO AP 59374</td>\n",
       "    </tr>\n",
       "    <tr>\n",
       "      <th>4997</th>\n",
       "      <td>102881.12090</td>\n",
       "      <td>9.008900</td>\n",
       "      <td>10.219902</td>\n",
       "      <td>NaN</td>\n",
       "      <td>69575.449460</td>\n",
       "      <td>2.332111e+06</td>\n",
       "      <td>Unit 9785 Box 0790\\nDPO AP 60371-0797</td>\n",
       "    </tr>\n",
       "    <tr>\n",
       "      <th>4998</th>\n",
       "      <td>104702.72430</td>\n",
       "      <td>9.125283</td>\n",
       "      <td>10.280022</td>\n",
       "      <td>NaN</td>\n",
       "      <td>69592.040240</td>\n",
       "      <td>2.370231e+06</td>\n",
       "      <td>Unit 9831 Box 7128\\nDPO AA 54705</td>\n",
       "    </tr>\n",
       "    <tr>\n",
       "      <th>4999</th>\n",
       "      <td>107701.74840</td>\n",
       "      <td>9.519088</td>\n",
       "      <td>10.759588</td>\n",
       "      <td>NaN</td>\n",
       "      <td>69621.713380</td>\n",
       "      <td>2.469066e+06</td>\n",
       "      <td>Unit 9871 Box 9037\\nDPO AP 37275-9289</td>\n",
       "    </tr>\n",
       "  </tbody>\n",
       "</table>\n",
       "<p>5000 rows × 7 columns</p>\n",
       "</div>"
      ],
      "text/plain": [
       "      Avg. Area Income  Avg. Area House Age  Avg. Area Number of Rooms  \\\n",
       "0          17796.63119             2.644304                   3.236194   \n",
       "1          35454.71466             2.683043                   3.950225   \n",
       "2          35608.98624             2.797215                   3.950973   \n",
       "3          35797.32312             2.797619                   3.969632   \n",
       "4          35963.33081             2.922736                   4.027931   \n",
       "...                ...                  ...                        ...   \n",
       "4995      101599.67060             8.973441                  10.024375   \n",
       "4996      101928.85810             8.991399                  10.144988   \n",
       "4997      102881.12090             9.008900                  10.219902   \n",
       "4998      104702.72430             9.125283                  10.280022   \n",
       "4999      107701.74840             9.519088                  10.759588   \n",
       "\n",
       "      Avg. Area Number of Bedrooms  Area Population         Price  \\\n",
       "0                             4.38       172.610686  1.593866e+04   \n",
       "1                              NaN      3285.450538  3.114052e+04   \n",
       "2                              NaN      3883.448164  8.859177e+04   \n",
       "3                              NaN      4114.489353  1.430274e+05   \n",
       "4                              NaN      5727.485885  1.515271e+05   \n",
       "...                            ...              ...           ...   \n",
       "4995                           NaN     68311.695820  2.318286e+06   \n",
       "4996                           NaN     69553.988330  2.330290e+06   \n",
       "4997                           NaN     69575.449460  2.332111e+06   \n",
       "4998                           NaN     69592.040240  2.370231e+06   \n",
       "4999                           NaN     69621.713380  2.469066e+06   \n",
       "\n",
       "                                               Address  \n",
       "0     000 Adkins Crescent\\nSouth Teresa, AS 49642-1348  \n",
       "1            000 Todd Pines\\nAshleyberg, KY 90207-1179  \n",
       "2               001 Steve Plaza\\nJessicastad, UT 25190  \n",
       "3     0010 Gregory Loaf\\nSouth Ericfort, VA 34651-0718  \n",
       "4            00149 Raymond Knolls\\nNew Jason, UT 75026  \n",
       "...                                                ...  \n",
       "4995                  Unit 9774 Box 4511\\nDPO AE 44963  \n",
       "4996                  Unit 9778 Box 2114\\nDPO AP 59374  \n",
       "4997             Unit 9785 Box 0790\\nDPO AP 60371-0797  \n",
       "4998                  Unit 9831 Box 7128\\nDPO AA 54705  \n",
       "4999             Unit 9871 Box 9037\\nDPO AP 37275-9289  \n",
       "\n",
       "[5000 rows x 7 columns]"
      ]
     },
     "execution_count": 26,
     "metadata": {},
     "output_type": "execute_result"
    }
   ],
   "source": [
    "dataset.mode()"
   ]
  },
  {
   "cell_type": "code",
   "execution_count": 27,
   "id": "17d53562",
   "metadata": {},
   "outputs": [
    {
     "data": {
      "text/plain": [
       "Avg. Area Income                6.880429e+04\n",
       "Avg. Area House Age             5.970429e+00\n",
       "Avg. Area Number of Rooms       7.002902e+00\n",
       "Avg. Area Number of Bedrooms    4.050000e+00\n",
       "Area Population                 3.619941e+04\n",
       "Price                           1.232669e+06\n",
       "dtype: float64"
      ]
     },
     "execution_count": 27,
     "metadata": {},
     "output_type": "execute_result"
    }
   ],
   "source": [
    "dataset.median()"
   ]
  },
  {
   "cell_type": "code",
   "execution_count": 32,
   "id": "8657355f",
   "metadata": {},
   "outputs": [
    {
     "data": {
      "text/plain": [
       "Avg. Area Income               -0.033720\n",
       "Avg. Area House Age            -0.007214\n",
       "Avg. Area Number of Rooms      -0.040996\n",
       "Avg. Area Number of Bedrooms    0.376240\n",
       "Area Population                 0.050650\n",
       "Price                          -0.002718\n",
       "dtype: float64"
      ]
     },
     "execution_count": 32,
     "metadata": {},
     "output_type": "execute_result"
    }
   ],
   "source": [
    "dataset.skew()"
   ]
  },
  {
   "cell_type": "code",
   "execution_count": 33,
   "id": "df1e0e97",
   "metadata": {},
   "outputs": [
    {
     "data": {
      "text/plain": [
       "Avg. Area Income                 10657.991214\n",
       "Avg. Area House Age                  0.991456\n",
       "Avg. Area Number of Rooms            1.005833\n",
       "Avg. Area Number of Bedrooms         1.234137\n",
       "Area Population                   9925.650114\n",
       "Price                           353117.626584\n",
       "dtype: float64"
      ]
     },
     "execution_count": 33,
     "metadata": {},
     "output_type": "execute_result"
    }
   ],
   "source": [
    "dataset.std()"
   ]
  },
  {
   "cell_type": "code",
   "execution_count": 35,
   "id": "638b8b6c",
   "metadata": {},
   "outputs": [
    {
     "ename": "AttributeError",
     "evalue": "'DataFrame' object has no attribute 'pstdev'",
     "output_type": "error",
     "traceback": [
      "\u001b[1;31m---------------------------------------------------------------------------\u001b[0m",
      "\u001b[1;31mAttributeError\u001b[0m                            Traceback (most recent call last)",
      "\u001b[1;32m<ipython-input-35-f189c2fc8cd7>\u001b[0m in \u001b[0;36m<module>\u001b[1;34m\u001b[0m\n\u001b[1;32m----> 1\u001b[1;33m \u001b[0mdataset\u001b[0m\u001b[1;33m.\u001b[0m\u001b[0mpstdev\u001b[0m\u001b[1;33m(\u001b[0m\u001b[1;33m)\u001b[0m\u001b[1;33m\u001b[0m\u001b[1;33m\u001b[0m\u001b[0m\n\u001b[0m",
      "\u001b[1;32m~\\anaconda3\\lib\\site-packages\\pandas\\core\\generic.py\u001b[0m in \u001b[0;36m__getattr__\u001b[1;34m(self, name)\u001b[0m\n\u001b[0;32m   5463\u001b[0m             \u001b[1;32mif\u001b[0m \u001b[0mself\u001b[0m\u001b[1;33m.\u001b[0m\u001b[0m_info_axis\u001b[0m\u001b[1;33m.\u001b[0m\u001b[0m_can_hold_identifiers_and_holds_name\u001b[0m\u001b[1;33m(\u001b[0m\u001b[0mname\u001b[0m\u001b[1;33m)\u001b[0m\u001b[1;33m:\u001b[0m\u001b[1;33m\u001b[0m\u001b[1;33m\u001b[0m\u001b[0m\n\u001b[0;32m   5464\u001b[0m                 \u001b[1;32mreturn\u001b[0m \u001b[0mself\u001b[0m\u001b[1;33m[\u001b[0m\u001b[0mname\u001b[0m\u001b[1;33m]\u001b[0m\u001b[1;33m\u001b[0m\u001b[1;33m\u001b[0m\u001b[0m\n\u001b[1;32m-> 5465\u001b[1;33m             \u001b[1;32mreturn\u001b[0m \u001b[0mobject\u001b[0m\u001b[1;33m.\u001b[0m\u001b[0m__getattribute__\u001b[0m\u001b[1;33m(\u001b[0m\u001b[0mself\u001b[0m\u001b[1;33m,\u001b[0m \u001b[0mname\u001b[0m\u001b[1;33m)\u001b[0m\u001b[1;33m\u001b[0m\u001b[1;33m\u001b[0m\u001b[0m\n\u001b[0m\u001b[0;32m   5466\u001b[0m \u001b[1;33m\u001b[0m\u001b[0m\n\u001b[0;32m   5467\u001b[0m     \u001b[1;32mdef\u001b[0m \u001b[0m__setattr__\u001b[0m\u001b[1;33m(\u001b[0m\u001b[0mself\u001b[0m\u001b[1;33m,\u001b[0m \u001b[0mname\u001b[0m\u001b[1;33m:\u001b[0m \u001b[0mstr\u001b[0m\u001b[1;33m,\u001b[0m \u001b[0mvalue\u001b[0m\u001b[1;33m)\u001b[0m \u001b[1;33m->\u001b[0m \u001b[1;32mNone\u001b[0m\u001b[1;33m:\u001b[0m\u001b[1;33m\u001b[0m\u001b[1;33m\u001b[0m\u001b[0m\n",
      "\u001b[1;31mAttributeError\u001b[0m: 'DataFrame' object has no attribute 'pstdev'"
     ]
    }
   ],
   "source": [
    "dataset.pstdev()"
   ]
  },
  {
   "cell_type": "code",
   "execution_count": null,
   "id": "5502d84d",
   "metadata": {},
   "outputs": [],
   "source": []
  }
 ],
 "metadata": {
  "kernelspec": {
   "display_name": "Python 3",
   "language": "python",
   "name": "python3"
  },
  "language_info": {
   "codemirror_mode": {
    "name": "ipython",
    "version": 3
   },
   "file_extension": ".py",
   "mimetype": "text/x-python",
   "name": "python",
   "nbconvert_exporter": "python",
   "pygments_lexer": "ipython3",
   "version": "3.8.8"
  }
 },
 "nbformat": 4,
 "nbformat_minor": 5
}
