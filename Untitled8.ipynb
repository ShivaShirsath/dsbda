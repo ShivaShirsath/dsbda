{
 "cells": [
  {
   "cell_type": "code",
   "execution_count": 9,
   "id": "0a844744",
   "metadata": {},
   "outputs": [
    {
     "name": "stderr",
     "output_type": "stream",
     "text": [
      "[nltk_data] Downloading package punkt to\n",
      "[nltk_data]     C:\\Users\\Pavan\\AppData\\Roaming\\nltk_data...\n",
      "[nltk_data]   Package punkt is already up-to-date!\n",
      "[nltk_data] Downloading package stopwords to\n",
      "[nltk_data]     C:\\Users\\Pavan\\AppData\\Roaming\\nltk_data...\n",
      "[nltk_data]   Unzipping corpora\\stopwords.zip.\n"
     ]
    },
    {
     "data": {
      "text/plain": [
       "True"
      ]
     },
     "execution_count": 9,
     "metadata": {},
     "output_type": "execute_result"
    }
   ],
   "source": [
    "from nltk.tokenize import\n",
    "nltk.download('punkt')\n",
    "nltk.download('stopwords')"
   ]
  },
  {
   "cell_type": "code",
   "execution_count": 7,
   "id": "fa0a4ac0",
   "metadata": {},
   "outputs": [
    {
     "data": {
      "text/plain": [
       "['heloo how are you ?',\n",
       " 'i am fine .',\n",
       " 'for your kind information.',\n",
       " \"bye have a nice day\\ndon't worry .\",\n",
       " 'take care brother']"
      ]
     },
     "execution_count": 7,
     "metadata": {},
     "output_type": "execute_result"
    }
   ],
   "source": [
    "text = \"\"\"heloo how are you ? i am fine . for your kind information. bye have a nice day\n",
    "don't worry . take care brother\"\"\"\n",
    "\n",
    "st = nltk.sent_tokenize(text)\n",
    "st"
   ]
  },
  {
   "cell_type": "code",
   "execution_count": 8,
   "id": "15d39afb",
   "metadata": {},
   "outputs": [
    {
     "data": {
      "text/plain": [
       "['heloo',\n",
       " 'how',\n",
       " 'are',\n",
       " 'you',\n",
       " '?',\n",
       " 'i',\n",
       " 'am',\n",
       " 'fine',\n",
       " '.',\n",
       " 'for',\n",
       " 'your',\n",
       " 'kind',\n",
       " 'information',\n",
       " '.',\n",
       " 'bye',\n",
       " 'have',\n",
       " 'a',\n",
       " 'nice',\n",
       " 'day',\n",
       " 'do',\n",
       " \"n't\",\n",
       " 'worry',\n",
       " '.',\n",
       " 'take',\n",
       " 'care',\n",
       " 'brother']"
      ]
     },
     "execution_count": 8,
     "metadata": {},
     "output_type": "execute_result"
    }
   ],
   "source": [
    "wt = nltk.word_tokenize(text)\n",
    "wt"
   ]
  },
  {
   "cell_type": "code",
   "execution_count": null,
   "id": "372c6a85",
   "metadata": {},
   "outputs": [],
   "source": []
  }
 ],
 "metadata": {
  "kernelspec": {
   "display_name": "Python 3 (ipykernel)",
   "language": "python",
   "name": "python3"
  },
  "language_info": {
   "codemirror_mode": {
    "name": "ipython",
    "version": 3
   },
   "file_extension": ".py",
   "mimetype": "text/x-python",
   "name": "python",
   "nbconvert_exporter": "python",
   "pygments_lexer": "ipython3",
   "version": "3.10.0"
  }
 },
 "nbformat": 4,
 "nbformat_minor": 5
}
