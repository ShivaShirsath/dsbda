{
 "cells": [
  {
   "cell_type": "code",
   "execution_count": 1,
   "id": "bcf8cbc3",
   "metadata": {},
   "outputs": [],
   "source": [
    "import pandas as pd\n",
    "from sklearn.feature_extraction.text import TfidfVectorizer"
   ]
  },
  {
   "cell_type": "code",
   "execution_count": 2,
   "id": "7c07380a",
   "metadata": {},
   "outputs": [],
   "source": [
    "# Initialize Documents\n",
    "\n",
    "documentA = 'Jupiter is the largest Planet'\n",
    "documentB = 'Mars is the fourth planet from the Sun'"
   ]
  },
  {
   "cell_type": "code",
   "execution_count": 5,
   "id": "bc1f048f",
   "metadata": {},
   "outputs": [],
   "source": [
    "# Create Bag of words for document\n",
    "\n",
    "bagOfWordsA = documentA.split(' ')\n",
    "bagOfWordsB = documentB.split(' ')"
   ]
  },
  {
   "cell_type": "code",
   "execution_count": 6,
   "id": "db4d18d7",
   "metadata": {},
   "outputs": [
    {
     "data": {
      "text/plain": [
       "{'Jupiter',\n",
       " 'Mars',\n",
       " 'Planet',\n",
       " 'Sun',\n",
       " 'fourth',\n",
       " 'from',\n",
       " 'is',\n",
       " 'largest',\n",
       " 'planet',\n",
       " 'the'}"
      ]
     },
     "execution_count": 6,
     "metadata": {},
     "output_type": "execute_result"
    }
   ],
   "source": [
    "# create collection of unique words from document\n",
    "\n",
    "uniqueWords = set(bagOfWordsA).union(bagOfWordsB)\n",
    "uniqueWords"
   ]
  },
  {
   "cell_type": "code",
   "execution_count": 8,
   "id": "1789042b",
   "metadata": {},
   "outputs": [],
   "source": [
    "# Create dictionary of words and their occurence for each document \n",
    "\n",
    "numOfWordsA = dict.fromkeys(uniqueWords, 0)\n",
    "for word in bagOfWordsA :\n",
    "    numOfWordsA[word] += 1\n",
    "    \n",
    "numOfWordsB = dict.fromkeys(uniqueWords, 0)\n",
    "for word in bagOfWordsB:\n",
    "    numOfWordsB[word] += 1"
   ]
  },
  {
   "cell_type": "code",
   "execution_count": 16,
   "id": "e2351b45",
   "metadata": {},
   "outputs": [
    {
     "data": {
      "text/html": [
       "<div>\n",
       "<style scoped>\n",
       "    .dataframe tbody tr th:only-of-type {\n",
       "        vertical-align: middle;\n",
       "    }\n",
       "\n",
       "    .dataframe tbody tr th {\n",
       "        vertical-align: top;\n",
       "    }\n",
       "\n",
       "    .dataframe thead th {\n",
       "        text-align: right;\n",
       "    }\n",
       "</style>\n",
       "<table border=\"1\" class=\"dataframe\">\n",
       "  <thead>\n",
       "    <tr style=\"text-align: right;\">\n",
       "      <th></th>\n",
       "      <th>fourth</th>\n",
       "      <th>largest</th>\n",
       "      <th>Mars</th>\n",
       "      <th>from</th>\n",
       "      <th>Jupiter</th>\n",
       "      <th>is</th>\n",
       "      <th>Planet</th>\n",
       "      <th>Sun</th>\n",
       "      <th>planet</th>\n",
       "      <th>the</th>\n",
       "    </tr>\n",
       "  </thead>\n",
       "  <tbody>\n",
       "    <tr>\n",
       "      <th>0</th>\n",
       "      <td>0.000</td>\n",
       "      <td>0.2</td>\n",
       "      <td>0.000</td>\n",
       "      <td>0.000</td>\n",
       "      <td>0.2</td>\n",
       "      <td>0.200</td>\n",
       "      <td>0.2</td>\n",
       "      <td>0.000</td>\n",
       "      <td>0.000</td>\n",
       "      <td>0.20</td>\n",
       "    </tr>\n",
       "    <tr>\n",
       "      <th>1</th>\n",
       "      <td>0.125</td>\n",
       "      <td>0.0</td>\n",
       "      <td>0.125</td>\n",
       "      <td>0.125</td>\n",
       "      <td>0.0</td>\n",
       "      <td>0.125</td>\n",
       "      <td>0.0</td>\n",
       "      <td>0.125</td>\n",
       "      <td>0.125</td>\n",
       "      <td>0.25</td>\n",
       "    </tr>\n",
       "  </tbody>\n",
       "</table>\n",
       "</div>"
      ],
      "text/plain": [
       "   fourth  largest   Mars   from  Jupiter     is  Planet    Sun  planet   the\n",
       "0   0.000      0.2  0.000  0.000      0.2  0.200     0.2  0.000   0.000  0.20\n",
       "1   0.125      0.0  0.125  0.125      0.0  0.125     0.0  0.125   0.125  0.25"
      ]
     },
     "execution_count": 16,
     "metadata": {},
     "output_type": "execute_result"
    }
   ],
   "source": [
    "# compute the term frequency for each document \n",
    "\n",
    "def computeTF(wordDict, bagOfWords):\n",
    "    tfDict = {}\n",
    "    bagOfWordsCount = len(bagOfWords)\n",
    "    for word,count in wordDict.items():\n",
    "        tfDict[word] = count / float(bagOfWordsCount)\n",
    "    return tfDict\n",
    "tfA = computeTF(numOfWordsA, bagOfWordsA)\n",
    "tfB = computeTF(numOfWordsB, bagOfWordsB)\n",
    "tddf = pd.DataFrame([tfA,tfB])\n",
    "tddf"
   ]
  },
  {
   "cell_type": "code",
   "execution_count": 10,
   "id": "96912315",
   "metadata": {},
   "outputs": [
    {
     "data": {
      "text/plain": [
       "{'fourth': 0.0,\n",
       " 'largest': 0.2,\n",
       " 'Mars': 0.0,\n",
       " 'from': 0.0,\n",
       " 'Jupiter': 0.2,\n",
       " 'is': 0.2,\n",
       " 'Planet': 0.2,\n",
       " 'Sun': 0.0,\n",
       " 'planet': 0.0,\n",
       " 'the': 0.2}"
      ]
     },
     "execution_count": 10,
     "metadata": {},
     "output_type": "execute_result"
    }
   ],
   "source": [
    "tfA"
   ]
  },
  {
   "cell_type": "code",
   "execution_count": 11,
   "id": "6928518d",
   "metadata": {},
   "outputs": [
    {
     "data": {
      "text/plain": [
       "{'fourth': 0.125,\n",
       " 'largest': 0.0,\n",
       " 'Mars': 0.125,\n",
       " 'from': 0.125,\n",
       " 'Jupiter': 0.0,\n",
       " 'is': 0.125,\n",
       " 'Planet': 0.0,\n",
       " 'Sun': 0.125,\n",
       " 'planet': 0.125,\n",
       " 'the': 0.25}"
      ]
     },
     "execution_count": 11,
     "metadata": {},
     "output_type": "execute_result"
    }
   ],
   "source": [
    "tfB"
   ]
  },
  {
   "cell_type": "code",
   "execution_count": 13,
   "id": "0d28b426",
   "metadata": {},
   "outputs": [
    {
     "data": {
      "text/plain": [
       "{'fourth': 0.6931471805599453,\n",
       " 'largest': 0.6931471805599453,\n",
       " 'Mars': 0.6931471805599453,\n",
       " 'from': 0.6931471805599453,\n",
       " 'Jupiter': 0.6931471805599453,\n",
       " 'is': 0.0,\n",
       " 'Planet': 0.6931471805599453,\n",
       " 'Sun': 0.6931471805599453,\n",
       " 'planet': 0.6931471805599453,\n",
       " 'the': 0.0}"
      ]
     },
     "execution_count": 13,
     "metadata": {},
     "output_type": "execute_result"
    }
   ],
   "source": [
    "# Compute the term Inverse Document Frequency\n",
    "\n",
    "def computeIDF(documents):\n",
    "    import math\n",
    "    N = len(documents)\n",
    "    \n",
    "    idfDict = dict.fromkeys(documents[0].keys(), 0)\n",
    "    for document in documents:\n",
    "        for word, val in document.items():\n",
    "            if val > 0:\n",
    "                idfDict[word] += 1\n",
    "    for word, val in idfDict.items():\n",
    "        idfDict[word] = math.log(N/float(val))\n",
    "    return idfDict\n",
    "idfs = computeIDF([numOfWordsA, numOfWordsB])\n",
    "idfs"
   ]
  },
  {
   "cell_type": "code",
   "execution_count": 34,
   "id": "2606463c",
   "metadata": {},
   "outputs": [
    {
     "data": {
      "text/html": [
       "<div>\n",
       "<style scoped>\n",
       "    .dataframe tbody tr th:only-of-type {\n",
       "        vertical-align: middle;\n",
       "    }\n",
       "\n",
       "    .dataframe tbody tr th {\n",
       "        vertical-align: top;\n",
       "    }\n",
       "\n",
       "    .dataframe thead th {\n",
       "        text-align: right;\n",
       "    }\n",
       "</style>\n",
       "<table border=\"1\" class=\"dataframe\">\n",
       "  <thead>\n",
       "    <tr style=\"text-align: right;\">\n",
       "      <th></th>\n",
       "      <th>TF for A</th>\n",
       "      <th>TF for B</th>\n",
       "      <th>IDF</th>\n",
       "      <th>TFIDF(A)</th>\n",
       "      <th>TFIDF(B)</th>\n",
       "    </tr>\n",
       "  </thead>\n",
       "  <tbody>\n",
       "    <tr>\n",
       "      <th>0</th>\n",
       "      <td>{'fourth': 0.0, 'largest': 0.2, 'Mars': 0.0, '...</td>\n",
       "      <td>{'fourth': 0.125, 'largest': 0.0, 'Mars': 0.12...</td>\n",
       "      <td>{'fourth': 0.6931471805599453, 'largest': 0.69...</td>\n",
       "      <td>{'fourth': 0.0, 'largest': 0.13862943611198905...</td>\n",
       "      <td>{'fourth': 0.08664339756999316, 'largest': 0.0...</td>\n",
       "    </tr>\n",
       "  </tbody>\n",
       "</table>\n",
       "</div>"
      ],
      "text/plain": [
       "                                            TF for A  \\\n",
       "0  {'fourth': 0.0, 'largest': 0.2, 'Mars': 0.0, '...   \n",
       "\n",
       "                                            TF for B  \\\n",
       "0  {'fourth': 0.125, 'largest': 0.0, 'Mars': 0.12...   \n",
       "\n",
       "                                                 IDF  \\\n",
       "0  {'fourth': 0.6931471805599453, 'largest': 0.69...   \n",
       "\n",
       "                                            TFIDF(A)  \\\n",
       "0  {'fourth': 0.0, 'largest': 0.13862943611198905...   \n",
       "\n",
       "                                            TFIDF(B)  \n",
       "0  {'fourth': 0.08664339756999316, 'largest': 0.0...  "
      ]
     },
     "execution_count": 34,
     "metadata": {},
     "output_type": "execute_result"
    }
   ],
   "source": [
    "# Compute the term TF/IDF for all Words \n",
    "\n",
    "def computeTFIDF(tfBagOfWords, idfs):\n",
    "    tfidf = {}\n",
    "    \n",
    "    for word, val in tfBagOfWords.items():\n",
    "        tfidf[word] = val * idfs[word]\n",
    "    return tfidf\n",
    "\n",
    "tfidfA = computeTFIDF(tfA, idfs)\n",
    "tfidfB = computeTFIDF(tfB, idfs)\n",
    "\n",
    "\n",
    "df = pd.DataFrame(index)\n",
    "\n",
    "df"
   ]
  },
  {
   "cell_type": "code",
   "execution_count": null,
   "id": "b98233ee",
   "metadata": {},
   "outputs": [],
   "source": []
  }
 ],
 "metadata": {
  "kernelspec": {
   "display_name": "Python 3 (ipykernel)",
   "language": "python",
   "name": "python3"
  },
  "language_info": {
   "codemirror_mode": {
    "name": "ipython",
    "version": 3
   },
   "file_extension": ".py",
   "mimetype": "text/x-python",
   "name": "python",
   "nbconvert_exporter": "python",
   "pygments_lexer": "ipython3",
   "version": "3.10.0"
  }
 },
 "nbformat": 4,
 "nbformat_minor": 5
}
