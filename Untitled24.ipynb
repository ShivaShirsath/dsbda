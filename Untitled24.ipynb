{
 "cells": [
  {
   "cell_type": "code",
   "execution_count": 1,
   "id": "eebc3543",
   "metadata": {},
   "outputs": [],
   "source": [
    "import pandas as pd\n",
    "from sklearn.feature_extraction.text import TfidfVectorizer"
   ]
  },
  {
   "cell_type": "code",
   "execution_count": 2,
   "id": "e09ae2bd",
   "metadata": {},
   "outputs": [],
   "source": [
    "# Initialize Documents\n",
    "\n",
    "documentA = 'Jupiter is the largest Planet'\n",
    "documentB = 'Mars is the fourth planet from the Sun'"
   ]
  },
  {
   "cell_type": "code",
   "execution_count": 3,
   "id": "f70eb1f0",
   "metadata": {},
   "outputs": [],
   "source": [
    "# Create Bag of words for document\n",
    "\n",
    "bagOfWordsA = documentA.split(' ')\n",
    "bagOfWordsB = documentB.split(' ')"
   ]
  },
  {
   "cell_type": "code",
   "execution_count": 4,
   "id": "5fd8b057",
   "metadata": {},
   "outputs": [],
   "source": [
    "# create collection of unique words from document\n",
    "\n",
    "uniqueWords = set(bagOfWordsA).union(bagOfWordsB)"
   ]
  },
  {
   "cell_type": "code",
   "execution_count": 5,
   "id": "102066c7",
   "metadata": {},
   "outputs": [],
   "source": [
    "# Create dictionary of words and their occurence for each document \n",
    "\n",
    "numOfWordsA = dict.fromkeys(uniqueWords, 0)\n",
    "for word in bagOfWordsA :\n",
    "    numOfWordsA[word] += 1\n",
    "    \n",
    "numOfWordsB = dict.fromkeys(uniqueWords, 0)\n",
    "for word in bagOfWordsB:\n",
    "    numOfWordsB[word] += 1"
   ]
  },
  {
   "cell_type": "code",
   "execution_count": 12,
   "id": "e0a0c7a8",
   "metadata": {},
   "outputs": [],
   "source": [
    "# compute the term frequency for each document \n",
    "\n",
    "def computeTF(wordDict, bagOfWords):\n",
    "    tfDict = {}\n",
    "    bagOfWordsCount = len(bagOfWords)\n",
    "    \n",
    "    for word,count in wordDict.items():\n",
    "        tfDict[word] = count / float(bagOfWordsCount)\n",
    "    return tfDict\n",
    "\n",
    "tfA = computeTF(numOfWordsA, bagOfWordsA)\n",
    "tfB = computeTF(numOfWordsB, bagOfWordsB)"
   ]
  },
  {
   "cell_type": "code",
   "execution_count": 13,
   "id": "9da159bc",
   "metadata": {},
   "outputs": [
    {
     "data": {
      "text/plain": [
       "{'the': 0.2,\n",
       " 'Planet': 0.2,\n",
       " 'Mars': 0.0,\n",
       " 'Sun': 0.0,\n",
       " 'largest': 0.2,\n",
       " 'planet': 0.0,\n",
       " 'fourth': 0.0,\n",
       " 'Jupiter': 0.2,\n",
       " 'is': 0.2,\n",
       " 'from': 0.0}"
      ]
     },
     "execution_count": 13,
     "metadata": {},
     "output_type": "execute_result"
    }
   ],
   "source": [
    "tfA"
   ]
  },
  {
   "cell_type": "code",
   "execution_count": 14,
   "id": "d0d3766e",
   "metadata": {},
   "outputs": [
    {
     "data": {
      "text/plain": [
       "{'the': 0.25,\n",
       " 'Planet': 0.0,\n",
       " 'Mars': 0.125,\n",
       " 'Sun': 0.125,\n",
       " 'largest': 0.0,\n",
       " 'planet': 0.125,\n",
       " 'fourth': 0.125,\n",
       " 'Jupiter': 0.0,\n",
       " 'is': 0.125,\n",
       " 'from': 0.125}"
      ]
     },
     "execution_count": 14,
     "metadata": {},
     "output_type": "execute_result"
    }
   ],
   "source": [
    "tfB"
   ]
  },
  {
   "cell_type": "code",
   "execution_count": 17,
   "id": "cc0e396e",
   "metadata": {},
   "outputs": [
    {
     "data": {
      "text/html": [
       "<div>\n",
       "<style scoped>\n",
       "    .dataframe tbody tr th:only-of-type {\n",
       "        vertical-align: middle;\n",
       "    }\n",
       "\n",
       "    .dataframe tbody tr th {\n",
       "        vertical-align: top;\n",
       "    }\n",
       "\n",
       "    .dataframe thead th {\n",
       "        text-align: right;\n",
       "    }\n",
       "</style>\n",
       "<table border=\"1\" class=\"dataframe\">\n",
       "  <thead>\n",
       "    <tr style=\"text-align: right;\">\n",
       "      <th></th>\n",
       "      <th>the</th>\n",
       "      <th>Planet</th>\n",
       "      <th>Mars</th>\n",
       "      <th>Sun</th>\n",
       "      <th>largest</th>\n",
       "      <th>planet</th>\n",
       "      <th>fourth</th>\n",
       "      <th>Jupiter</th>\n",
       "      <th>is</th>\n",
       "      <th>from</th>\n",
       "    </tr>\n",
       "  </thead>\n",
       "  <tbody>\n",
       "    <tr>\n",
       "      <th>0</th>\n",
       "      <td>0.20</td>\n",
       "      <td>0.2</td>\n",
       "      <td>0.000</td>\n",
       "      <td>0.000</td>\n",
       "      <td>0.2</td>\n",
       "      <td>0.000</td>\n",
       "      <td>0.000</td>\n",
       "      <td>0.2</td>\n",
       "      <td>0.200</td>\n",
       "      <td>0.000</td>\n",
       "    </tr>\n",
       "    <tr>\n",
       "      <th>1</th>\n",
       "      <td>0.25</td>\n",
       "      <td>0.0</td>\n",
       "      <td>0.125</td>\n",
       "      <td>0.125</td>\n",
       "      <td>0.0</td>\n",
       "      <td>0.125</td>\n",
       "      <td>0.125</td>\n",
       "      <td>0.0</td>\n",
       "      <td>0.125</td>\n",
       "      <td>0.125</td>\n",
       "    </tr>\n",
       "  </tbody>\n",
       "</table>\n",
       "</div>"
      ],
      "text/plain": [
       "    the  Planet   Mars    Sun  largest  planet  fourth  Jupiter     is   from\n",
       "0  0.20     0.2  0.000  0.000      0.2   0.000   0.000      0.2  0.200  0.000\n",
       "1  0.25     0.0  0.125  0.125      0.0   0.125   0.125      0.0  0.125  0.125"
      ]
     },
     "execution_count": 17,
     "metadata": {},
     "output_type": "execute_result"
    }
   ],
   "source": [
    "tf_df = pd.DataFrame([tfA,tfB])\n",
    "tf_df"
   ]
  },
  {
   "cell_type": "code",
   "execution_count": 18,
   "id": "b5bec501",
   "metadata": {},
   "outputs": [
    {
     "data": {
      "text/plain": [
       "{'the': 0.0,\n",
       " 'Planet': 0.6931471805599453,\n",
       " 'Mars': 0.6931471805599453,\n",
       " 'Sun': 0.6931471805599453,\n",
       " 'largest': 0.6931471805599453,\n",
       " 'planet': 0.6931471805599453,\n",
       " 'fourth': 0.6931471805599453,\n",
       " 'Jupiter': 0.6931471805599453,\n",
       " 'is': 0.0,\n",
       " 'from': 0.6931471805599453}"
      ]
     },
     "execution_count": 18,
     "metadata": {},
     "output_type": "execute_result"
    }
   ],
   "source": [
    "# Compute the term Inverse Document Frequency\n",
    "\n",
    "def computeIDF(documents):\n",
    "    import math\n",
    "    N = len(documents)\n",
    "    \n",
    "    idfDict = dict.fromkeys(documents[0].keys(), 0)\n",
    "    for document in documents:\n",
    "        for word, val in document.items():\n",
    "            if val > 0:\n",
    "                idfDict[word] += 1\n",
    "\n",
    "    for word, val in idfDict.items():\n",
    "        idfDict[word] = math.log(N/float(val))\n",
    "    return idfDict\n",
    "\n",
    "idfs = computeIDF([numOfWordsA, numOfWordsB])\n",
    "idfs"
   ]
  },
  {
   "cell_type": "code",
   "execution_count": 20,
   "id": "7ef67786",
   "metadata": {},
   "outputs": [
    {
     "data": {
      "text/html": [
       "<div>\n",
       "<style scoped>\n",
       "    .dataframe tbody tr th:only-of-type {\n",
       "        vertical-align: middle;\n",
       "    }\n",
       "\n",
       "    .dataframe tbody tr th {\n",
       "        vertical-align: top;\n",
       "    }\n",
       "\n",
       "    .dataframe thead th {\n",
       "        text-align: right;\n",
       "    }\n",
       "</style>\n",
       "<table border=\"1\" class=\"dataframe\">\n",
       "  <thead>\n",
       "    <tr style=\"text-align: right;\">\n",
       "      <th></th>\n",
       "      <th>the</th>\n",
       "      <th>Planet</th>\n",
       "      <th>Mars</th>\n",
       "      <th>Sun</th>\n",
       "      <th>largest</th>\n",
       "      <th>planet</th>\n",
       "      <th>fourth</th>\n",
       "      <th>Jupiter</th>\n",
       "      <th>is</th>\n",
       "      <th>from</th>\n",
       "    </tr>\n",
       "  </thead>\n",
       "  <tbody>\n",
       "    <tr>\n",
       "      <th>0</th>\n",
       "      <td>0.0</td>\n",
       "      <td>0.693147</td>\n",
       "      <td>0.693147</td>\n",
       "      <td>0.693147</td>\n",
       "      <td>0.693147</td>\n",
       "      <td>0.693147</td>\n",
       "      <td>0.693147</td>\n",
       "      <td>0.693147</td>\n",
       "      <td>0.0</td>\n",
       "      <td>0.693147</td>\n",
       "    </tr>\n",
       "  </tbody>\n",
       "</table>\n",
       "</div>"
      ],
      "text/plain": [
       "   the    Planet      Mars       Sun   largest    planet    fourth   Jupiter  \\\n",
       "0  0.0  0.693147  0.693147  0.693147  0.693147  0.693147  0.693147  0.693147   \n",
       "\n",
       "    is      from  \n",
       "0  0.0  0.693147  "
      ]
     },
     "execution_count": 20,
     "metadata": {},
     "output_type": "execute_result"
    }
   ],
   "source": [
    "idfs_df = pd.DataFrame([idfs])\n",
    "idfs_df"
   ]
  },
  {
   "cell_type": "code",
   "execution_count": 21,
   "id": "07394ea4",
   "metadata": {},
   "outputs": [],
   "source": [
    "# Compute the term TF/IDF for all Words \n",
    "\n",
    "def computeTFIDF(tfBagOfWords, idfs):\n",
    "    tfidf = {}\n",
    "    \n",
    "    for word, val in tfBagOfWords.items():\n",
    "        tfidf[word] = val * idfs[word]\n",
    "    return tfidf\n",
    "\n",
    "tfidfA = computeTFIDF(tfA, idfs)\n",
    "tfidfB = computeTFIDF(tfB, idfs)\n"
   ]
  },
  {
   "cell_type": "code",
   "execution_count": 22,
   "id": "9383a8a3",
   "metadata": {},
   "outputs": [
    {
     "data": {
      "text/plain": [
       "{'the': 0.0,\n",
       " 'Planet': 0.13862943611198905,\n",
       " 'Mars': 0.0,\n",
       " 'Sun': 0.0,\n",
       " 'largest': 0.13862943611198905,\n",
       " 'planet': 0.0,\n",
       " 'fourth': 0.0,\n",
       " 'Jupiter': 0.13862943611198905,\n",
       " 'is': 0.0,\n",
       " 'from': 0.0}"
      ]
     },
     "execution_count": 22,
     "metadata": {},
     "output_type": "execute_result"
    }
   ],
   "source": [
    "tfidfA"
   ]
  },
  {
   "cell_type": "code",
   "execution_count": 23,
   "id": "5057a4bd",
   "metadata": {},
   "outputs": [
    {
     "data": {
      "text/plain": [
       "{'the': 0.0,\n",
       " 'Planet': 0.0,\n",
       " 'Mars': 0.08664339756999316,\n",
       " 'Sun': 0.08664339756999316,\n",
       " 'largest': 0.0,\n",
       " 'planet': 0.08664339756999316,\n",
       " 'fourth': 0.08664339756999316,\n",
       " 'Jupiter': 0.0,\n",
       " 'is': 0.0,\n",
       " 'from': 0.08664339756999316}"
      ]
     },
     "execution_count": 23,
     "metadata": {},
     "output_type": "execute_result"
    }
   ],
   "source": [
    "tfidfB"
   ]
  },
  {
   "cell_type": "code",
   "execution_count": null,
   "id": "dce3ab23",
   "metadata": {},
   "outputs": [],
   "source": [
    "tfidf_df = pd.DataFrame([tfidfA,tfidfB])"
   ]
  }
 ],
 "metadata": {
  "kernelspec": {
   "display_name": "Python 3 (ipykernel)",
   "language": "python",
   "name": "python3"
  },
  "language_info": {
   "codemirror_mode": {
    "name": "ipython",
    "version": 3
   },
   "file_extension": ".py",
   "mimetype": "text/x-python",
   "name": "python",
   "nbconvert_exporter": "python",
   "pygments_lexer": "ipython3",
   "version": "3.10.0"
  }
 },
 "nbformat": 4,
 "nbformat_minor": 5
}
