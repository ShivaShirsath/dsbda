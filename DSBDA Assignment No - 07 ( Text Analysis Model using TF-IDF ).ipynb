{
 "cells": [
  {
   "cell_type": "code",
   "execution_count": 1,
   "id": "17d39cab",
   "metadata": {},
   "outputs": [],
   "source": [
    "import pandas as pd\n",
    "from sklearn.feature_extraction.text import TfidfVectorizer"
   ]
  },
  {
   "cell_type": "code",
   "execution_count": 2,
   "id": "8c45f30c",
   "metadata": {},
   "outputs": [],
   "source": [
    "# Initialize Documents\n",
    "\n",
    "documentA = 'Jupiter is the largest Planet'\n",
    "documentB = 'Mars is the fourth planet from the Sun'"
   ]
  },
  {
   "cell_type": "code",
   "execution_count": 3,
   "id": "ebe24ad5",
   "metadata": {},
   "outputs": [],
   "source": [
    "# Create Bag of words for document\n",
    "\n",
    "bagOfWordsA = documentA.split(' ')\n",
    "bagOfWordsB = documentB.split(' ')"
   ]
  },
  {
   "cell_type": "code",
   "execution_count": 4,
   "id": "c4baa3bd",
   "metadata": {},
   "outputs": [],
   "source": [
    "# create collection of unique words from document\n",
    "\n",
    "uniqueWords = set(bagOfWordsA).union(bagOfWordsB)"
   ]
  },
  {
   "cell_type": "code",
   "execution_count": 5,
   "id": "7e1e9b93",
   "metadata": {},
   "outputs": [],
   "source": [
    "# Create dictionary of words and their occurence for each document \n",
    "\n",
    "numOfWordsA = dict.fromkeys(uniqueWords, 0)\n",
    "for word in bagOfWordsA :\n",
    "    numOfWordsA[word] += 1\n",
    "    \n",
    "numOfWordsB = dict.fromkeys(uniqueWords, 0)\n",
    "for word in bagOfWordsB:\n",
    "    numOfWordsB[word] += 1"
   ]
  },
  {
   "cell_type": "code",
   "execution_count": 6,
   "id": "853818cf",
   "metadata": {},
   "outputs": [],
   "source": [
    "# compute the term frequency for each document \n",
    "\n",
    "def computeTF(wordDict, bagOfWords):\n",
    "    tfDict = {}\n",
    "    bagOfWordsCount = len(bagOfWords)\n",
    "    \n",
    "    for word,count in wordDict.items():\n",
    "        tfDict[word] = count / float(bagOfWordsCount)\n",
    "    return tfDict\n",
    "\n",
    "tfA = computeTF(numOfWordsA, bagOfWordsA)\n",
    "tfB = computeTF(numOfWordsB, bagOfWordsB)"
   ]
  },
  {
   "cell_type": "code",
   "execution_count": 7,
   "id": "60d41116",
   "metadata": {},
   "outputs": [
    {
     "data": {
      "text/plain": [
       "{'from': 0.0,\n",
       " 'Jupiter': 0.2,\n",
       " 'the': 0.2,\n",
       " 'Sun': 0.0,\n",
       " 'Mars': 0.0,\n",
       " 'planet': 0.0,\n",
       " 'is': 0.2,\n",
       " 'largest': 0.2,\n",
       " 'fourth': 0.0,\n",
       " 'Planet': 0.2}"
      ]
     },
     "execution_count": 7,
     "metadata": {},
     "output_type": "execute_result"
    }
   ],
   "source": [
    "tfA"
   ]
  },
  {
   "cell_type": "code",
   "execution_count": 8,
   "id": "3a2d4930",
   "metadata": {},
   "outputs": [
    {
     "data": {
      "text/plain": [
       "{'from': 0.125,\n",
       " 'Jupiter': 0.0,\n",
       " 'the': 0.25,\n",
       " 'Sun': 0.125,\n",
       " 'Mars': 0.125,\n",
       " 'planet': 0.125,\n",
       " 'is': 0.125,\n",
       " 'largest': 0.0,\n",
       " 'fourth': 0.125,\n",
       " 'Planet': 0.0}"
      ]
     },
     "execution_count": 8,
     "metadata": {},
     "output_type": "execute_result"
    }
   ],
   "source": [
    "tfB"
   ]
  },
  {
   "cell_type": "code",
   "execution_count": 9,
   "id": "945edcf2",
   "metadata": {},
   "outputs": [
    {
     "data": {
      "text/html": [
       "<div>\n",
       "<style scoped>\n",
       "    .dataframe tbody tr th:only-of-type {\n",
       "        vertical-align: middle;\n",
       "    }\n",
       "\n",
       "    .dataframe tbody tr th {\n",
       "        vertical-align: top;\n",
       "    }\n",
       "\n",
       "    .dataframe thead th {\n",
       "        text-align: right;\n",
       "    }\n",
       "</style>\n",
       "<table border=\"1\" class=\"dataframe\">\n",
       "  <thead>\n",
       "    <tr style=\"text-align: right;\">\n",
       "      <th></th>\n",
       "      <th>from</th>\n",
       "      <th>Jupiter</th>\n",
       "      <th>the</th>\n",
       "      <th>Sun</th>\n",
       "      <th>Mars</th>\n",
       "      <th>planet</th>\n",
       "      <th>is</th>\n",
       "      <th>largest</th>\n",
       "      <th>fourth</th>\n",
       "      <th>Planet</th>\n",
       "    </tr>\n",
       "  </thead>\n",
       "  <tbody>\n",
       "    <tr>\n",
       "      <th>0</th>\n",
       "      <td>0.000</td>\n",
       "      <td>0.2</td>\n",
       "      <td>0.20</td>\n",
       "      <td>0.000</td>\n",
       "      <td>0.000</td>\n",
       "      <td>0.000</td>\n",
       "      <td>0.200</td>\n",
       "      <td>0.2</td>\n",
       "      <td>0.000</td>\n",
       "      <td>0.2</td>\n",
       "    </tr>\n",
       "    <tr>\n",
       "      <th>1</th>\n",
       "      <td>0.125</td>\n",
       "      <td>0.0</td>\n",
       "      <td>0.25</td>\n",
       "      <td>0.125</td>\n",
       "      <td>0.125</td>\n",
       "      <td>0.125</td>\n",
       "      <td>0.125</td>\n",
       "      <td>0.0</td>\n",
       "      <td>0.125</td>\n",
       "      <td>0.0</td>\n",
       "    </tr>\n",
       "  </tbody>\n",
       "</table>\n",
       "</div>"
      ],
      "text/plain": [
       "    from  Jupiter   the    Sun   Mars  planet     is  largest  fourth  Planet\n",
       "0  0.000      0.2  0.20  0.000  0.000   0.000  0.200      0.2   0.000     0.2\n",
       "1  0.125      0.0  0.25  0.125  0.125   0.125  0.125      0.0   0.125     0.0"
      ]
     },
     "execution_count": 9,
     "metadata": {},
     "output_type": "execute_result"
    }
   ],
   "source": [
    "tf_df = pd.DataFrame([tfA,tfB])\n",
    "tf_df"
   ]
  },
  {
   "cell_type": "code",
   "execution_count": 10,
   "id": "a596210d",
   "metadata": {},
   "outputs": [
    {
     "data": {
      "text/plain": [
       "{'from': 0.6931471805599453,\n",
       " 'Jupiter': 0.6931471805599453,\n",
       " 'the': 0.0,\n",
       " 'Sun': 0.6931471805599453,\n",
       " 'Mars': 0.6931471805599453,\n",
       " 'planet': 0.6931471805599453,\n",
       " 'is': 0.0,\n",
       " 'largest': 0.6931471805599453,\n",
       " 'fourth': 0.6931471805599453,\n",
       " 'Planet': 0.6931471805599453}"
      ]
     },
     "execution_count": 10,
     "metadata": {},
     "output_type": "execute_result"
    }
   ],
   "source": [
    "# Compute the term Inverse Document Frequency\n",
    "\n",
    "def computeIDF(documents):\n",
    "    import math\n",
    "    N = len(documents)\n",
    "    \n",
    "    idfDict = dict.fromkeys(documents[0].keys(), 0)\n",
    "    for document in documents:\n",
    "        for word, val in document.items():\n",
    "            if val > 0:\n",
    "                idfDict[word] += 1\n",
    "\n",
    "    for word, val in idfDict.items():\n",
    "        idfDict[word] = math.log(N/float(val))\n",
    "    return idfDict\n",
    "\n",
    "idfs = computeIDF([numOfWordsA, numOfWordsB])\n",
    "idfs"
   ]
  },
  {
   "cell_type": "code",
   "execution_count": 11,
   "id": "7c2ec6c5",
   "metadata": {},
   "outputs": [
    {
     "data": {
      "text/html": [
       "<div>\n",
       "<style scoped>\n",
       "    .dataframe tbody tr th:only-of-type {\n",
       "        vertical-align: middle;\n",
       "    }\n",
       "\n",
       "    .dataframe tbody tr th {\n",
       "        vertical-align: top;\n",
       "    }\n",
       "\n",
       "    .dataframe thead th {\n",
       "        text-align: right;\n",
       "    }\n",
       "</style>\n",
       "<table border=\"1\" class=\"dataframe\">\n",
       "  <thead>\n",
       "    <tr style=\"text-align: right;\">\n",
       "      <th></th>\n",
       "      <th>from</th>\n",
       "      <th>Jupiter</th>\n",
       "      <th>the</th>\n",
       "      <th>Sun</th>\n",
       "      <th>Mars</th>\n",
       "      <th>planet</th>\n",
       "      <th>is</th>\n",
       "      <th>largest</th>\n",
       "      <th>fourth</th>\n",
       "      <th>Planet</th>\n",
       "    </tr>\n",
       "  </thead>\n",
       "  <tbody>\n",
       "    <tr>\n",
       "      <th>0</th>\n",
       "      <td>0.693147</td>\n",
       "      <td>0.693147</td>\n",
       "      <td>0.0</td>\n",
       "      <td>0.693147</td>\n",
       "      <td>0.693147</td>\n",
       "      <td>0.693147</td>\n",
       "      <td>0.0</td>\n",
       "      <td>0.693147</td>\n",
       "      <td>0.693147</td>\n",
       "      <td>0.693147</td>\n",
       "    </tr>\n",
       "  </tbody>\n",
       "</table>\n",
       "</div>"
      ],
      "text/plain": [
       "       from   Jupiter  the       Sun      Mars    planet   is   largest  \\\n",
       "0  0.693147  0.693147  0.0  0.693147  0.693147  0.693147  0.0  0.693147   \n",
       "\n",
       "     fourth    Planet  \n",
       "0  0.693147  0.693147  "
      ]
     },
     "execution_count": 11,
     "metadata": {},
     "output_type": "execute_result"
    }
   ],
   "source": [
    "idfs_df = pd.DataFrame([idfs])\n",
    "idfs_df"
   ]
  },
  {
   "cell_type": "code",
   "execution_count": 12,
   "id": "f4c1ab8d",
   "metadata": {},
   "outputs": [],
   "source": [
    "# Compute the term TF/IDF for all Words \n",
    "\n",
    "def computeTFIDF(tfBagOfWords, idfs):\n",
    "    tfidf = {}\n",
    "    \n",
    "    for word, val in tfBagOfWords.items():\n",
    "        tfidf[word] = val * idfs[word]\n",
    "    return tfidf\n",
    "\n",
    "tfidfA = computeTFIDF(tfA, idfs)\n",
    "tfidfB = computeTFIDF(tfB, idfs)\n"
   ]
  },
  {
   "cell_type": "code",
   "execution_count": 13,
   "id": "86ec35cc",
   "metadata": {},
   "outputs": [
    {
     "data": {
      "text/plain": [
       "{'from': 0.0,\n",
       " 'Jupiter': 0.13862943611198905,\n",
       " 'the': 0.0,\n",
       " 'Sun': 0.0,\n",
       " 'Mars': 0.0,\n",
       " 'planet': 0.0,\n",
       " 'is': 0.0,\n",
       " 'largest': 0.13862943611198905,\n",
       " 'fourth': 0.0,\n",
       " 'Planet': 0.13862943611198905}"
      ]
     },
     "execution_count": 13,
     "metadata": {},
     "output_type": "execute_result"
    }
   ],
   "source": [
    "tfidfA"
   ]
  },
  {
   "cell_type": "code",
   "execution_count": 14,
   "id": "add02867",
   "metadata": {},
   "outputs": [
    {
     "data": {
      "text/plain": [
       "{'from': 0.08664339756999316,\n",
       " 'Jupiter': 0.0,\n",
       " 'the': 0.0,\n",
       " 'Sun': 0.08664339756999316,\n",
       " 'Mars': 0.08664339756999316,\n",
       " 'planet': 0.08664339756999316,\n",
       " 'is': 0.0,\n",
       " 'largest': 0.0,\n",
       " 'fourth': 0.08664339756999316,\n",
       " 'Planet': 0.0}"
      ]
     },
     "execution_count": 14,
     "metadata": {},
     "output_type": "execute_result"
    }
   ],
   "source": [
    "tfidfB"
   ]
  },
  {
   "cell_type": "code",
   "execution_count": 15,
   "id": "e40c4d5f",
   "metadata": {},
   "outputs": [
    {
     "data": {
      "text/html": [
       "<div>\n",
       "<style scoped>\n",
       "    .dataframe tbody tr th:only-of-type {\n",
       "        vertical-align: middle;\n",
       "    }\n",
       "\n",
       "    .dataframe tbody tr th {\n",
       "        vertical-align: top;\n",
       "    }\n",
       "\n",
       "    .dataframe thead th {\n",
       "        text-align: right;\n",
       "    }\n",
       "</style>\n",
       "<table border=\"1\" class=\"dataframe\">\n",
       "  <thead>\n",
       "    <tr style=\"text-align: right;\">\n",
       "      <th></th>\n",
       "      <th>from</th>\n",
       "      <th>Jupiter</th>\n",
       "      <th>the</th>\n",
       "      <th>Sun</th>\n",
       "      <th>Mars</th>\n",
       "      <th>planet</th>\n",
       "      <th>is</th>\n",
       "      <th>largest</th>\n",
       "      <th>fourth</th>\n",
       "      <th>Planet</th>\n",
       "    </tr>\n",
       "  </thead>\n",
       "  <tbody>\n",
       "    <tr>\n",
       "      <th>0</th>\n",
       "      <td>0.000000</td>\n",
       "      <td>0.138629</td>\n",
       "      <td>0.0</td>\n",
       "      <td>0.000000</td>\n",
       "      <td>0.000000</td>\n",
       "      <td>0.000000</td>\n",
       "      <td>0.0</td>\n",
       "      <td>0.138629</td>\n",
       "      <td>0.000000</td>\n",
       "      <td>0.138629</td>\n",
       "    </tr>\n",
       "    <tr>\n",
       "      <th>1</th>\n",
       "      <td>0.086643</td>\n",
       "      <td>0.000000</td>\n",
       "      <td>0.0</td>\n",
       "      <td>0.086643</td>\n",
       "      <td>0.086643</td>\n",
       "      <td>0.086643</td>\n",
       "      <td>0.0</td>\n",
       "      <td>0.000000</td>\n",
       "      <td>0.086643</td>\n",
       "      <td>0.000000</td>\n",
       "    </tr>\n",
       "  </tbody>\n",
       "</table>\n",
       "</div>"
      ],
      "text/plain": [
       "       from   Jupiter  the       Sun      Mars    planet   is   largest  \\\n",
       "0  0.000000  0.138629  0.0  0.000000  0.000000  0.000000  0.0  0.138629   \n",
       "1  0.086643  0.000000  0.0  0.086643  0.086643  0.086643  0.0  0.000000   \n",
       "\n",
       "     fourth    Planet  \n",
       "0  0.000000  0.138629  \n",
       "1  0.086643  0.000000  "
      ]
     },
     "execution_count": 15,
     "metadata": {},
     "output_type": "execute_result"
    }
   ],
   "source": [
    "tfidf_df = pd.DataFrame([tfidfA,tfidfB])\n",
    "tfidf_df"
   ]
  }
 ],
 "metadata": {
  "kernelspec": {
   "display_name": "Python 3 (ipykernel)",
   "language": "python",
   "name": "python3"
  },
  "language_info": {
   "codemirror_mode": {
    "name": "ipython",
    "version": 3
   },
   "file_extension": ".py",
   "mimetype": "text/x-python",
   "name": "python",
   "nbconvert_exporter": "python",
   "pygments_lexer": "ipython3",
   "version": "3.10.0"
  }
 },
 "nbformat": 4,
 "nbformat_minor": 5
}
