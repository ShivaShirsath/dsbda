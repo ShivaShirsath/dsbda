{
 "cells": [
  {
   "cell_type": "code",
   "execution_count": 7,
   "id": "6a0d59e0",
   "metadata": {},
   "outputs": [],
   "source": [
    "from nltk.tokenize import sent_tokenize,word_tokenize"
   ]
  },
  {
   "cell_type": "code",
   "execution_count": 8,
   "id": "48568af0",
   "metadata": {},
   "outputs": [],
   "source": [
    "text = \"\"\"Hello,Here we are studying about Tokenization.\n",
    "Tokenization is first step in text analysis.\n",
    "In tokenization process text paragraph breaking down into\n",
    "smaller chunks such as words or sentences.\"\"\""
   ]
  },
  {
   "cell_type": "code",
   "execution_count": 9,
   "id": "cf86dc28",
   "metadata": {},
   "outputs": [
    {
     "name": "stdout",
     "output_type": "stream",
     "text": [
      "['Hello,Here we are studying about Tokenization.', 'Tokenization is first step in text analysis.', 'In tokenization process text paragraph breaking down into\\nsmaller chunks such as words or sentences.']\n"
     ]
    }
   ],
   "source": [
    "# Sentence Tokenization\n",
    "\n",
    "tokenized_text_in_sentence = sent_tokenize(text)\n",
    "print(tokenized_text_in_sentence)"
   ]
  },
  {
   "cell_type": "code",
   "execution_count": 7,
   "id": "018d2576",
   "metadata": {},
   "outputs": [
    {
     "name": "stdout",
     "output_type": "stream",
     "text": [
      "['Hello', ',', 'Here', 'we', 'are', 'studying', 'about', 'Tokenization', '.', 'Tokenization', 'is', 'first', 'step', 'in', 'text', 'analysis', '.', 'In', 'tokenization', 'process', 'text', 'paragraph', 'breaking', 'down', 'into', 'smaller', 'chunks', 'such', 'as', 'words', 'or', 'sentences', '.']\n"
     ]
    }
   ],
   "source": [
    "# Word Tokenization\n",
    "\n",
    "tokenized_text_in_word = word_tokenize(text)\n",
    "print(tokenized_text_in_word)"
   ]
  }
 ],
 "metadata": {
  "kernelspec": {
   "display_name": "Python 3 (ipykernel)",
   "language": "python",
   "name": "python3"
  },
  "language_info": {
   "codemirror_mode": {
    "name": "ipython",
    "version": 3
   },
   "file_extension": ".py",
   "mimetype": "text/x-python",
   "name": "python",
   "nbconvert_exporter": "python",
   "pygments_lexer": "ipython3",
   "version": "3.10.0"
  }
 },
 "nbformat": 4,
 "nbformat_minor": 5
}
