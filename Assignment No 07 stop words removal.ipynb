{
 "cells": [
  {
   "cell_type": "code",
   "execution_count": 1,
   "id": "4c4fa296",
   "metadata": {},
   "outputs": [],
   "source": [
    "from nltk.corpus import stopwords\n",
    "from nltk.tokenize import word_tokenize\n",
    "import re"
   ]
  },
  {
   "cell_type": "code",
   "execution_count": 3,
   "id": "230f03d9",
   "metadata": {},
   "outputs": [
    {
     "name": "stdout",
     "output_type": "stream",
     "text": [
      "{'am', 'some', 'how', 'about', 'themselves', 't', 'a', \"weren't\", 'your', \"shan't\", 'me', \"you'll\", 'these', \"wouldn't\", 'did', 'shouldn', 'when', 'will', 'ma', 'myself', 'doing', 'we', 'itself', 'theirs', 'where', 'you', 'more', 'his', 'this', \"you're\", 'but', 'not', 'have', 'which', \"doesn't\", 'i', 'while', 'whom', 'ours', 'hadn', 'during', \"should've\", 're', 'isn', 'ain', 'below', 'an', \"couldn't\", 'who', 'the', 'because', 'she', 'they', 'until', \"didn't\", 'other', \"that'll\", 'mustn', 'yours', 'has', 'there', 'most', 'if', \"won't\", 'on', 'our', \"shouldn't\", 'doesn', 'with', 'all', 'here', 've', 'be', 'or', \"don't\", \"you'd\", 'now', 'few', 'nor', \"needn't\", 'o', 'through', 'd', 'under', 'll', 'ourselves', 'are', 'him', 'any', 'such', \"mustn't\", 'won', 'been', 'for', 'once', 'do', 'haven', 'y', 'yourself', 'before', 'and', 'he', 'as', 'by', 'can', 'its', 'too', 'm', 'from', \"hadn't\", \"hasn't\", 'wouldn', 'my', 'so', \"haven't\", 'her', 'own', 'is', 'against', 'hers', 'than', 'to', \"you've\", 'himself', 'having', 'mightn', 'hasn', 'further', 's', \"mightn't\", 'their', 'shan', \"aren't\", 'herself', 'off', 'couldn', 'that', 'no', 'does', 'weren', 'why', 'out', 'of', 'up', 'down', 'over', 'yourselves', 'it', \"she's\", 'being', 'in', 'only', 'don', 'should', 'same', 'were', 'wasn', \"wasn't\", 'didn', 'what', 'was', 'both', 'needn', 'again', 'then', 'at', 'had', 'them', 'after', 'each', 'very', 'into', 'aren', 'between', \"it's\", 'just', 'above', 'those', \"isn't\"}\n"
     ]
    }
   ],
   "source": [
    "stop_words = set(stopwords.words('english'))\n",
    "print(stop_words)"
   ]
  },
  {
   "cell_type": "code",
   "execution_count": 5,
   "id": "ecc524ec",
   "metadata": {},
   "outputs": [
    {
     "name": "stdout",
     "output_type": "stream",
     "text": [
      "tokenized word: ['how', 'to', 'remove', 'stop', 'words', 'with', 'nltk', 'library', 'in', 'python']\n",
      "filterd word: ['remove', 'stop', 'words', 'nltk', 'library', 'python']\n"
     ]
    }
   ],
   "source": [
    "text = \"How to remove stop words with NLTK library in python?\"\n",
    "text = re.sub('[^a-zA-Z]',' ',text)\n",
    "tokens = word_tokenize(text.lower())\n",
    "filtered_text = []\n",
    "\n",
    "for w in tokens:\n",
    "    if w not in stop_words:\n",
    "        filtered_text.append(w)\n",
    "print(\"tokenized word:\",tokens)\n",
    "print(\"filterd word:\",filtered_text)"
   ]
  },
  {
   "cell_type": "code",
   "execution_count": null,
   "id": "449bcc55",
   "metadata": {},
   "outputs": [],
   "source": []
  }
 ],
 "metadata": {
  "kernelspec": {
   "display_name": "Python 3 (ipykernel)",
   "language": "python",
   "name": "python3"
  },
  "language_info": {
   "codemirror_mode": {
    "name": "ipython",
    "version": 3
   },
   "file_extension": ".py",
   "mimetype": "text/x-python",
   "name": "python",
   "nbconvert_exporter": "python",
   "pygments_lexer": "ipython3",
   "version": "3.10.0"
  }
 },
 "nbformat": 4,
 "nbformat_minor": 5
}
